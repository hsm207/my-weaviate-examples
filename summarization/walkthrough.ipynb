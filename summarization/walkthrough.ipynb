{
 "cells": [
  {
   "cell_type": "markdown",
   "metadata": {},
   "source": [
    "# Imports"
   ]
  },
  {
   "cell_type": "code",
   "execution_count": 8,
   "metadata": {},
   "outputs": [],
   "source": [
    "from datasets import load_dataset\n",
    "import weaviate\n",
    "import uuid\n"
   ]
  },
  {
   "attachments": {},
   "cell_type": "markdown",
   "metadata": {},
   "source": [
    "# Data"
   ]
  },
  {
   "attachments": {},
   "cell_type": "markdown",
   "metadata": {},
   "source": [
    "Download the Reddit TIFU dataset:"
   ]
  },
  {
   "cell_type": "code",
   "execution_count": 9,
   "metadata": {},
   "outputs": [
    {
     "name": "stderr",
     "output_type": "stream",
     "text": [
      "Found cached dataset reddit_tifu (/home/vscode/.cache/huggingface/datasets/reddit_tifu/short/1.1.0/1c73fb08807b54ec26b025829b2a3d90c6f7466dac20801c825571af9514c049)\n",
      "Loading cached shuffled indices for dataset at /home/vscode/.cache/huggingface/datasets/reddit_tifu/short/1.1.0/1c73fb08807b54ec26b025829b2a3d90c6f7466dac20801c825571af9514c049/cache-224f5f019baecc2e.arrow\n",
      "Loading cached processed dataset at /home/vscode/.cache/huggingface/datasets/reddit_tifu/short/1.1.0/1c73fb08807b54ec26b025829b2a3d90c6f7466dac20801c825571af9514c049/cache-c578ad205720b401.arrow\n"
     ]
    }
   ],
   "source": [
    "num_samples = 100\n",
    "\n",
    "dataset = load_dataset(\"reddit_tifu\", \"short\", split=\"train\")\\\n",
    "    .shuffle(seed=42)\\\n",
    "    .select(range(num_samples))\\\n",
    "    .add_column(\"id\", [uuid.uuid4().__str__() for _ in range(num_samples)])\\\n",
    "    .remove_columns([\"ups\", \"num_comments\", \"upvote_ratio\", \"score\"])\\\n",
    "    .rename_column(\"documents\", \"content\")\n",
    "\n",
    "# to check with model summary later\n",
    "df = dataset.to_pandas().set_index(\"id\")\n"
   ]
  },
  {
   "attachments": {},
   "cell_type": "markdown",
   "metadata": {},
   "source": [
    "Upload to weaviate:"
   ]
  },
  {
   "cell_type": "code",
   "execution_count": 10,
   "metadata": {},
   "outputs": [],
   "source": [
    "client = weaviate.Client(\"http://localhost:8080\")\n",
    "\n",
    "post_class_schema = {\n",
    "    \"class\": \"Post\",\n",
    "    \"description\": \"A reddit post\",\n",
    "    \"properties\": [{\n",
    "        \"name\": \"content\",\n",
    "        \"dataType\": [\"text\"]\n",
    "    }]\n",
    "}\n",
    "\n",
    "client.schema.create_class(post_class_schema)\n"
   ]
  },
  {
   "cell_type": "code",
   "execution_count": 11,
   "metadata": {},
   "outputs": [],
   "source": [
    "client.batch(batch_size=20, dynamic=True, num_workers=1)\n",
    "\n",
    "with client.batch as batch:\n",
    "    for d in dataset:\n",
    "        batch.add_data_object(\n",
    "            data_object={\n",
    "                \"content\": d[\"content\"]\n",
    "            },\n",
    "            class_name='Post',\n",
    "            uuid=d[\"id\"]\n",
    "        )\n"
   ]
  },
  {
   "attachments": {},
   "cell_type": "markdown",
   "metadata": {},
   "source": [
    "Summarize something:"
   ]
  },
  {
   "cell_type": "code",
   "execution_count": 14,
   "metadata": {},
   "outputs": [],
   "source": [
    "post_id = df.sample(1).index.values[0]\n",
    "\n",
    "post_id_filter = {\n",
    "    \"path\": [\"id\"],\n",
    "    \"operator\": \"Equal\",\n",
    "    \"valueString\": post_id\n",
    "}\n",
    "\n",
    "result = (\n",
    "    client.query\n",
    "    .get('Post', ['_additional  {id summary ( properties: [\"content\"]) { result }}'])\n",
    "    .with_where(post_id_filter)\n",
    "    .do()\n",
    ")\n",
    "\n",
    "model_tldr = result[\"data\"][\"Get\"][\"Post\"][0][\"_additional\"][\"summary\"][0][\"result\"]\n",
    "content = df.loc[post_id][\"content\"]\n",
    "true_tldr = df.loc[post_id][\"tldr\"] or df.loc[post_id][\"title\"]\n"
   ]
  },
  {
   "cell_type": "code",
   "execution_count": 15,
   "metadata": {},
   "outputs": [
    {
     "name": "stdout",
     "output_type": "stream",
     "text": [
      "Content:\n",
      "obligatory this didn't happen today. i was going to post this on the day it happened so that i could feel above and better than everyone who says \"obligatory this didn't happen today\", but i didn't. so i don't.  \n",
      "\n",
      "anyways it all started with a game of volleyball, was a lovely fun game with friends and family and involved sand. sand is usually fun and soft to fall on. however it is not recommended to use as lubricant. i came straight home, a short walk, after our fun little session of play and decided to embark on my own, personal session. by which i mean i masturbated.  \n",
      "\n",
      "now i didn't have the time to wash my hands thoroughly before my misadventure and so i realised halfway through that there were still grains of sand, rubbing against my shaft. bravely, i continued, relaxing my hand and caressing myself with a lovers embrace rather than a death clinch with a thrust great enough to achieve geostationary orbit, and so was able to tenaciously proceed... albeit with caution.  \n",
      "\n",
      "as my efforts came to fruition in an eruption rival to that of vesuvius, both in power and devastation, i was unable to maintain my zen monk levels of control and reapplied a grip of titanic strength trying to ride out this furious, monstrosity of an orgasm. now when i say ride, this was not like an athlete victoriously riding across the finish line of the tour de france to whoops and cheers of adoration. nor was it like a hawaiian surfer, gracefully riding a wave, standing atop the ocean displaying beauty in motion. no it was like a redneck riding a bull, beer clutched in one hand and holding on for dear life with his other. unfortunately this technique does not leave any free hands with which to hold onto dignity and self respect, so those have been dropped.  \n",
      "\n",
      "so yeah that's how i lacerated my penis. the red of the head was a different shade of red due to blood and there were some scratches. i then sat with family and attempted not to move as pants were literally agony.  \n",
      "\n",
      "don't wank with sand lads.\n",
      "--------------------------------------------------------------------------------\n",
      "model tldr:\n",
      "i was going to post this on the day it happened so that i could feel above and better than everyone who says \"obligatory this didn't happen today\", but i didn't. so i don't. it all started with a game of volleyball, was a lovely fun game with friends and family and involved sand. sand is usually fun and soft to fall on. however it is not recommended to use as lubricant. so yeah that's how i lacerated my penis. the red of the head was a different shade of red due to blood and there were some scratches.\n",
      "--------------------------------------------------------------------------------\n",
      "true tldr:\n",
      "had sand on my hands, masturbated and sliced the head of my penis open.\n"
     ]
    }
   ],
   "source": [
    "print(f\"Content:\\n{content}\")\n",
    "print(\"-\"*80)\n",
    "print(f\"model tldr:\\n{model_tldr}\")\n",
    "print(\"-\"*80)\n",
    "print(f\"true tldr:\\n{true_tldr}\")\n"
   ]
  }
 ],
 "metadata": {
  "kernelspec": {
   "display_name": "Python 3",
   "language": "python",
   "name": "python3"
  },
  "language_info": {
   "codemirror_mode": {
    "name": "ipython",
    "version": 3
   },
   "file_extension": ".py",
   "mimetype": "text/x-python",
   "name": "python",
   "nbconvert_exporter": "python",
   "pygments_lexer": "ipython3",
   "version": "3.8.16"
  },
  "orig_nbformat": 4,
  "vscode": {
   "interpreter": {
    "hash": "949777d72b0d2535278d3dc13498b2535136f6dfe0678499012e853ee9abcab1"
   }
  }
 },
 "nbformat": 4,
 "nbformat_minor": 2
}
