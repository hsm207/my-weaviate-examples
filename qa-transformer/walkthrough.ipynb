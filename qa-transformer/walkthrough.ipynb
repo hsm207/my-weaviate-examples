{
 "cells": [
  {
   "cell_type": "markdown",
   "metadata": {},
   "source": [
    "# Imports"
   ]
  },
  {
   "cell_type": "code",
   "execution_count": 1,
   "metadata": {},
   "outputs": [
    {
     "name": "stderr",
     "output_type": "stream",
     "text": [
      "/home/vscode/.local/lib/python3.8/site-packages/tqdm/auto.py:22: TqdmWarning: IProgress not found. Please update jupyter and ipywidgets. See https://ipywidgets.readthedocs.io/en/stable/user_install.html\n",
      "  from .autonotebook import tqdm as notebook_tqdm\n"
     ]
    }
   ],
   "source": [
    "from datasets import load_dataset\n",
    "import weaviate\n",
    "import uuid\n"
   ]
  },
  {
   "attachments": {},
   "cell_type": "markdown",
   "metadata": {},
   "source": [
    "# Data"
   ]
  },
  {
   "attachments": {},
   "cell_type": "markdown",
   "metadata": {},
   "source": [
    "Download the squad v2 dataset:"
   ]
  },
  {
   "cell_type": "code",
   "execution_count": 19,
   "metadata": {},
   "outputs": [
    {
     "name": "stderr",
     "output_type": "stream",
     "text": [
      "Found cached dataset squad_v2 (/home/vscode/.cache/huggingface/datasets/squad_v2/squad_v2/2.0.0/09187c73c1b837c95d9a249cd97c2c3f1cebada06efe667b4427714b27639b1d)\n",
      "Loading cached shuffled indices for dataset at /home/vscode/.cache/huggingface/datasets/squad_v2/squad_v2/2.0.0/09187c73c1b837c95d9a249cd97c2c3f1cebada06efe667b4427714b27639b1d/cache-94ff4fb2986d7002.arrow\n"
     ]
    }
   ],
   "source": [
    "num_samples = 100\n",
    "\n",
    "dataset = load_dataset(\"squad_v2\", split=\"validation\")\\\n",
    "    .shuffle(seed=42)\\\n",
    "    .select(range(num_samples))\\\n",
    "    .rename_column(\"id\", \"docid\")\n",
    "\n",
    "# to check the answer later\n",
    "df = dataset.to_pandas().set_index(\"docid\")\n"
   ]
  },
  {
   "attachments": {},
   "cell_type": "markdown",
   "metadata": {},
   "source": [
    "Upload to weaviate:"
   ]
  },
  {
   "cell_type": "code",
   "execution_count": 23,
   "metadata": {},
   "outputs": [],
   "source": [
    "client = weaviate.Client(\"http://localhost:8080\")\n",
    "\n",
    "doc_class_schema = {\n",
    "    \"class\": \"Document\",\n",
    "    \"description\": \"A factual document\",\n",
    "    \"properties\": [{\n",
    "        \"name\": \"context\",\n",
    "        \"dataType\": [\"text\"]},\n",
    "        {\n",
    "        \"name\": \"docid\",\n",
    "        \"dataType\": [\"string\"]\n",
    "    }\n",
    "    ]\n",
    "}\n",
    "\n",
    "client.schema.create_class(doc_class_schema)\n"
   ]
  },
  {
   "cell_type": "code",
   "execution_count": 24,
   "metadata": {},
   "outputs": [],
   "source": [
    "client.batch(batch_size=10, dynamic=True, num_workers=1)\n",
    "\n",
    "with client.batch as batch:\n",
    "    for d in dataset.remove_columns([\"title\", \"answers\", \"question\"]):\n",
    "        batch.add_data_object(\n",
    "            data_object=d,\n",
    "            class_name=\"Document\"\n",
    "        )\n"
   ]
  },
  {
   "attachments": {},
   "cell_type": "markdown",
   "metadata": {},
   "source": [
    "Ask a question:"
   ]
  },
  {
   "cell_type": "code",
   "execution_count": 61,
   "metadata": {},
   "outputs": [],
   "source": [
    "# pick questions that have answers\n",
    "true_answer = None\n",
    "\n",
    "while not true_answer:\n",
    "    sample_triple = df.sample(1)\n",
    "    question = sample_triple[\"question\"].values[0]\n",
    "    true_answer = sample_triple[\"answers\"].values[0]\n",
    "    context = sample_triple[\"context\"].values[0]\n"
   ]
  },
  {
   "cell_type": "code",
   "execution_count": 62,
   "metadata": {},
   "outputs": [],
   "source": [
    "ask = {\n",
    "    \"question\": question,\n",
    "    \"properties\": \"context\"\n",
    "}\n",
    "\n",
    "result = (\n",
    "    client.query\n",
    "    .get(\"Document\", [\"_additional {answer {hasAnswer certainty property result startPosition endPosition} }\"])\n",
    "    .with_ask(ask)\n",
    "    .with_limit(1)\n",
    "    .do()\n",
    ")\n",
    "\n",
    "model_answer = result[\"data\"][\"Get\"][\"Document\"][0][\"_additional\"][\"answer\"][\"result\"]\n"
   ]
  },
  {
   "cell_type": "code",
   "execution_count": 64,
   "metadata": {},
   "outputs": [
    {
     "name": "stdout",
     "output_type": "stream",
     "text": [
      "Context:\n",
      "In particular, this norm gets smaller when a number is multiplied by p, in sharp contrast to the usual absolute value (also referred to as the infinite prime). While completing Q (roughly, filling the gaps) with respect to the absolute value yields the field of real numbers, completing with respect to the p-adic norm |−|p yields the field of p-adic numbers. These are essentially all possible ways to complete Q, by Ostrowski's theorem. Certain arithmetic questions related to Q or more general global fields may be transferred back and forth to the completed (or local) fields. This local-global principle again underlines the importance of primes to number theory.\n",
      "--------------------------------------------------------------------------------\n",
      "Question:\n",
      "Completing Q with respect to what will produce the field of real numbers?\n",
      "--------------------------------------------------------------------------------\n",
      "Model answer:\n",
      "the absolute value\n",
      "--------------------------------------------------------------------------------\n",
      "True answer:\n",
      "{'text': array(['the absolute value', 'the absolute value', 'absolute value',\n",
      "       'the absolute value'], dtype=object), 'answer_start': array([223, 223, 227, 223], dtype=int32)}\n"
     ]
    }
   ],
   "source": [
    "print(f\"Context:\\n{context}\")\n",
    "print(\"-\"*80)\n",
    "print(f\"Question:\\n{question}\")\n",
    "print(\"-\"*80)\n",
    "print(f\"Model answer:\\n{model_answer}\")\n",
    "print(\"-\"*80)\n",
    "print(f\"True answer:\\n{true_answer}\")\n"
   ]
  }
 ],
 "metadata": {
  "kernelspec": {
   "display_name": "Python 3",
   "language": "python",
   "name": "python3"
  },
  "language_info": {
   "codemirror_mode": {
    "name": "ipython",
    "version": 3
   },
   "file_extension": ".py",
   "mimetype": "text/x-python",
   "name": "python",
   "nbconvert_exporter": "python",
   "pygments_lexer": "ipython3",
   "version": "3.9.2 (default, Feb 28 2021, 17:03:44) \n[GCC 10.2.1 20210110]"
  },
  "orig_nbformat": 4,
  "vscode": {
   "interpreter": {
    "hash": "31f2aee4e71d21fbe5cf8b01ff0e069b9275f58929596ceb00d14d90e3e16cd6"
   }
  }
 },
 "nbformat": 4,
 "nbformat_minor": 2
}
