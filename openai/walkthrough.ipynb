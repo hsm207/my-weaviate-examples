{
 "cells": [
  {
   "cell_type": "markdown",
   "metadata": {},
   "source": [
    "# Imports"
   ]
  },
  {
   "cell_type": "code",
   "execution_count": 1,
   "metadata": {},
   "outputs": [
    {
     "name": "stderr",
     "output_type": "stream",
     "text": [
      "/usr/local/lib/python3.8/site-packages/tqdm/auto.py:22: TqdmWarning: IProgress not found. Please update jupyter and ipywidgets. See https://ipywidgets.readthedocs.io/en/stable/user_install.html\n",
      "  from .autonotebook import tqdm as notebook_tqdm\n"
     ]
    }
   ],
   "source": [
    "from datasets import load_dataset\n",
    "import weaviate\n",
    "import uuid\n"
   ]
  },
  {
   "cell_type": "markdown",
   "metadata": {},
   "source": [
    "# Data"
   ]
  },
  {
   "cell_type": "markdown",
   "metadata": {},
   "source": [
    "Download the squad v2 dataset:"
   ]
  },
  {
   "cell_type": "code",
   "execution_count": 2,
   "metadata": {},
   "outputs": [
    {
     "name": "stderr",
     "output_type": "stream",
     "text": [
      "Found cached dataset squad_v2 (/home/vscode/.cache/huggingface/datasets/squad_v2/squad_v2/2.0.0/09187c73c1b837c95d9a249cd97c2c3f1cebada06efe667b4427714b27639b1d)\n",
      "Loading cached shuffled indices for dataset at /home/vscode/.cache/huggingface/datasets/squad_v2/squad_v2/2.0.0/09187c73c1b837c95d9a249cd97c2c3f1cebada06efe667b4427714b27639b1d/cache-94ff4fb2986d7002.arrow\n"
     ]
    }
   ],
   "source": [
    "num_samples = 100\n",
    "\n",
    "dataset = load_dataset(\"squad_v2\", split=\"validation\")\\\n",
    "    .shuffle(seed=42)\\\n",
    "    .select(range(num_samples))\\\n",
    "    .rename_column(\"id\", \"docid\")\n",
    "\n",
    "# to check the answer later\n",
    "df = dataset.to_pandas().set_index(\"docid\")\n"
   ]
  },
  {
   "cell_type": "markdown",
   "metadata": {},
   "source": [
    "Upload to weaviate:"
   ]
  },
  {
   "cell_type": "code",
   "execution_count": 3,
   "metadata": {},
   "outputs": [],
   "source": [
    "client = weaviate.Client(\"http://localhost:8080\")\n",
    "\n",
    "doc_class_schema = {\n",
    "    \"class\": \"Document\",\n",
    "    \"description\": \"A factual document\",\n",
    "    \"properties\": [{\n",
    "        \"name\": \"context\",\n",
    "        \"dataType\": [\"text\"]},\n",
    "        {\n",
    "        \"name\": \"docid\",\n",
    "        \"dataType\": [\"string\"]\n",
    "    }\n",
    "    ],\n",
    "    \"moduleConfig\": {\n",
    "        \"qna-openai\": {\n",
    "          \"model\": \"text-davinci-002\",\n",
    "          \"maxTokens\": 16,\n",
    "          \"temperature\": 0.0,\n",
    "          \"topP\": 1,\n",
    "          \"frequencyPenalty\": 0.0,\n",
    "          \"presencePenalty\": 0.0\n",
    "        }\n",
    "      }\n",
    "}\n",
    "\n",
    "client.schema.create_class(doc_class_schema)\n"
   ]
  },
  {
   "cell_type": "code",
   "execution_count": 4,
   "metadata": {},
   "outputs": [],
   "source": [
    "client.batch(batch_size=10, dynamic=True, num_workers=1)\n",
    "\n",
    "with client.batch as batch:\n",
    "    for d in dataset.remove_columns([\"title\", \"answers\", \"question\"]):\n",
    "        batch.add_data_object(\n",
    "            data_object=d,\n",
    "            class_name=\"Document\"\n",
    "        )\n"
   ]
  },
  {
   "cell_type": "markdown",
   "metadata": {},
   "source": [
    "Ask a question:"
   ]
  },
  {
   "cell_type": "code",
   "execution_count": 5,
   "metadata": {},
   "outputs": [],
   "source": [
    "# pick questions that have answers\n",
    "true_answer = {\"text\": []}\n",
    "\n",
    "while len(true_answer[\"text\"]) == 0:\n",
    "    sample_triple = df.sample(1)\n",
    "    question = sample_triple[\"question\"].values[0]\n",
    "    true_answer = sample_triple[\"answers\"].values[0]\n",
    "    context = sample_triple[\"context\"].values[0]\n"
   ]
  },
  {
   "cell_type": "code",
   "execution_count": 6,
   "metadata": {},
   "outputs": [],
   "source": [
    "ask = {\n",
    "    \"question\": question,\n",
    "    \"properties\": \"context\"\n",
    "}\n",
    "\n",
    "\n",
    "result = (\n",
    "    client.query\n",
    "    .get(\"Document\", [\"_additional {answer {hasAnswer property result startPosition endPosition} }\"])\n",
    "    .with_ask(ask)\n",
    "    .with_limit(1)\n",
    "    .do()\n",
    ")\n",
    "\n",
    "model_answer = result[\"data\"][\"Get\"][\"Document\"][0][\"_additional\"][\"answer\"][\"result\"]\n"
   ]
  },
  {
   "cell_type": "code",
   "execution_count": 7,
   "metadata": {},
   "outputs": [
    {
     "name": "stdout",
     "output_type": "stream",
     "text": [
      "Context:\n",
      "While acknowledging the central role economic growth can potentially play in human development, poverty reduction and the achievement of the Millennium Development Goals, it is becoming widely understood amongst the development community that special efforts must be made to ensure poorer sections of society are able to participate in economic growth. The effect of economic growth on poverty reduction – the growth elasticity of poverty – can depend on the existing level of inequality. For instance, with low inequality a country with a growth rate of 2% per head and 40% of its population living in poverty, can halve poverty in ten years, but a country with high inequality would take nearly 60 years to achieve the same reduction. In the words of the Secretary General of the United Nations Ban Ki-Moon: \"While economic growth is necessary, it is not sufficient for progress on reducing poverty.\"\n",
      "--------------------------------------------------------------------------------\n",
      "Question:\n",
      "What needs to be made to ensure poorer members of society can participate in economic growth?\n",
      "--------------------------------------------------------------------------------\n",
      "Model answer:\n",
      " Special efforts need to be made to ensure poorer members of society can participate in economic\n",
      "--------------------------------------------------------------------------------\n",
      "True answer:\n",
      "{'text': array(['special efforts', 'special efforts', 'special efforts'],\n",
      "      dtype=object), 'answer_start': array([243, 243, 243], dtype=int32)}\n"
     ]
    }
   ],
   "source": [
    "print(f\"Context:\\n{context}\")\n",
    "print(\"-\"*80)\n",
    "print(f\"Question:\\n{question}\")\n",
    "print(\"-\"*80)\n",
    "print(f\"Model answer:\\n{model_answer}\")\n",
    "print(\"-\"*80)\n",
    "print(f\"True answer:\\n{true_answer}\")\n"
   ]
  }
 ],
 "metadata": {
  "kernelspec": {
   "display_name": "Python 3 (ipykernel)",
   "language": "python",
   "name": "python3"
  },
  "language_info": {
   "codemirror_mode": {
    "name": "ipython",
    "version": 3
   },
   "file_extension": ".py",
   "mimetype": "text/x-python",
   "name": "python",
   "nbconvert_exporter": "python",
   "pygments_lexer": "ipython3",
   "version": "3.8.16"
  },
  "vscode": {
   "interpreter": {
    "hash": "949777d72b0d2535278d3dc13498b2535136f6dfe0678499012e853ee9abcab1"
   }
  }
 },
 "nbformat": 4,
 "nbformat_minor": 4
}
